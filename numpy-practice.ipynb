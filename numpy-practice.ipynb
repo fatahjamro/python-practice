{
 "cells": [
  {
   "cell_type": "code",
   "execution_count": 1,
   "metadata": {},
   "outputs": [],
   "source": [
    "import numpy as np"
   ]
  },
  {
   "cell_type": "code",
   "execution_count": 2,
   "metadata": {},
   "outputs": [
    {
     "name": "stdout",
     "output_type": "stream",
     "text": [
      "[ 1  2  3  4  5  6  7  8  9 10 11 12]\n"
     ]
    }
   ],
   "source": [
    "arr = np.array([1,2,3,4,5,6,7,8,9,10,11,12])\n",
    "print(arr)"
   ]
  },
  {
   "cell_type": "code",
   "execution_count": 4,
   "metadata": {},
   "outputs": [
    {
     "name": "stdout",
     "output_type": "stream",
     "text": [
      "[1 3 5 7 9]\n"
     ]
    }
   ],
   "source": [
    "print(arr[:10:2])"
   ]
  },
  {
   "cell_type": "code",
   "execution_count": 5,
   "metadata": {},
   "outputs": [
    {
     "name": "stdout",
     "output_type": "stream",
     "text": [
      "[ 1  3  5  7  9 11]\n"
     ]
    }
   ],
   "source": [
    "print(arr[::2])"
   ]
  },
  {
   "cell_type": "code",
   "execution_count": 7,
   "metadata": {},
   "outputs": [
    {
     "name": "stdout",
     "output_type": "stream",
     "text": [
      "[[ 1  2  3  4]\n",
      " [ 5  6  7  8]\n",
      " [ 9 10 11 12]]\n"
     ]
    }
   ],
   "source": [
    "newarr = arr.reshape(3,4)\n",
    "newarr2 = arr.reshape(2,6)\n",
    "\n",
    "print(newarr)\n"
   ]
  },
  {
   "cell_type": "code",
   "execution_count": 8,
   "metadata": {},
   "outputs": [
    {
     "name": "stdout",
     "output_type": "stream",
     "text": [
      "[[ 1  2  3  4  5  6]\n",
      " [ 7  8  9 10 11 12]]\n"
     ]
    }
   ],
   "source": [
    "print(newarr2)"
   ]
  },
  {
   "cell_type": "code",
   "execution_count": 9,
   "metadata": {},
   "outputs": [
    {
     "ename": "AttributeError",
     "evalue": "'list' object has no attribute 'reshape'",
     "output_type": "error",
     "traceback": [
      "\u001b[0;31m---------------------------------------------------------------------------\u001b[0m",
      "\u001b[0;31mAttributeError\u001b[0m                            Traceback (most recent call last)",
      "Cell \u001b[0;32mIn[9], line 2\u001b[0m\n\u001b[1;32m      1\u001b[0m arr2 \u001b[38;5;241m=\u001b[39m [\u001b[38;5;241m1\u001b[39m,\u001b[38;5;241m2\u001b[39m,]\n\u001b[0;32m----> 2\u001b[0m newarr2 \u001b[38;5;241m=\u001b[39m \u001b[43marr2\u001b[49m\u001b[38;5;241;43m.\u001b[39;49m\u001b[43mreshape\u001b[49m(\u001b[38;5;241m3\u001b[39m,\u001b[38;5;241m3\u001b[39m)\n\u001b[1;32m      3\u001b[0m \u001b[38;5;28mprint\u001b[39m(newarr2)\n",
      "\u001b[0;31mAttributeError\u001b[0m: 'list' object has no attribute 'reshape'"
     ]
    }
   ],
   "source": [
    "arr2 = [1,2,]\n",
    "newarr2 = arr2.reshape(3,3)\n",
    "print(newarr2)"
   ]
  },
  {
   "cell_type": "code",
   "execution_count": 11,
   "metadata": {},
   "outputs": [
    {
     "name": "stdout",
     "output_type": "stream",
     "text": [
      "[[[ 1  2]\n",
      "  [ 3  4]\n",
      "  [ 5  6]]\n",
      "\n",
      " [[ 7  8]\n",
      "  [ 9 10]\n",
      "  [11 12]]]\n"
     ]
    }
   ],
   "source": [
    "newarr4 = arr.reshape(2,3,2)\n",
    "print(newarr4)"
   ]
  },
  {
   "cell_type": "code",
   "execution_count": 13,
   "metadata": {},
   "outputs": [
    {
     "name": "stdout",
     "output_type": "stream",
     "text": [
      "[[1 2 3]\n",
      " [4 5 6]\n",
      " [7 8 9]]\n"
     ]
    }
   ],
   "source": [
    "arr22 = np.array([1,2,3,4,5,6,7,8,9])\n",
    "print(arr22.reshape(3,3))"
   ]
  },
  {
   "cell_type": "code",
   "execution_count": 14,
   "metadata": {},
   "outputs": [
    {
     "name": "stdout",
     "output_type": "stream",
     "text": [
      "[1 2 3 4 5 6 7 8 9]\n"
     ]
    }
   ],
   "source": [
    "print(arr22.reshape(3,3).base)"
   ]
  },
  {
   "cell_type": "code",
   "execution_count": 27,
   "metadata": {},
   "outputs": [
    {
     "name": "stdout",
     "output_type": "stream",
     "text": [
      "[[[1 2]\n",
      "  [3 4]]\n",
      "\n",
      " [[5 6]\n",
      "  [7 8]]]\n"
     ]
    }
   ],
   "source": [
    "arr33 = np.array([1,2,3,4,5,6,7,8])\n",
    "arr332 = arr33.reshape(2,2,-1)\n",
    "print(arr332)"
   ]
  },
  {
   "cell_type": "code",
   "execution_count": 28,
   "metadata": {},
   "outputs": [
    {
     "name": "stdout",
     "output_type": "stream",
     "text": [
      "[1 2 3 4 5 6]\n"
     ]
    }
   ],
   "source": [
    "arr12 = np.array([[1,2,3],[4,5,6]])\n",
    "\n",
    "newarr31 = arr12.reshape(-1)\n",
    "print(newarr31)"
   ]
  },
  {
   "cell_type": "code",
   "execution_count": 29,
   "metadata": {},
   "outputs": [
    {
     "name": "stdout",
     "output_type": "stream",
     "text": [
      "[1 2 3]\n",
      "[4 5 6]\n"
     ]
    }
   ],
   "source": [
    "for x in arr12:\n",
    "  print(x)"
   ]
  },
  {
   "cell_type": "code",
   "execution_count": 30,
   "metadata": {},
   "outputs": [
    {
     "name": "stdout",
     "output_type": "stream",
     "text": [
      "1\n",
      "2\n",
      "3\n",
      "4\n",
      "5\n",
      "6\n"
     ]
    }
   ],
   "source": [
    "for x in newarr31:\n",
    "  print(x)"
   ]
  },
  {
   "cell_type": "code",
   "execution_count": 31,
   "metadata": {},
   "outputs": [
    {
     "name": "stdout",
     "output_type": "stream",
     "text": [
      "1\n",
      "2\n",
      "3\n",
      "4\n",
      "5\n",
      "6\n"
     ]
    }
   ],
   "source": [
    "for x in arr12:\n",
    "  for y in x:\n",
    "    print(y)"
   ]
  },
  {
   "cell_type": "code",
   "execution_count": 33,
   "metadata": {},
   "outputs": [
    {
     "name": "stdout",
     "output_type": "stream",
     "text": [
      "[[1 2 3]\n",
      " [4 5 6]]\n",
      "[[ 7  8  9]\n",
      " [10 11 12]]\n"
     ]
    }
   ],
   "source": [
    "ar1 = np.array([[[1,2,3],[4,5,6]], [[7,8,9],[10,11,12]]])\n",
    "\n",
    "for x in ar1:\n",
    "  print(x)"
   ]
  },
  {
   "cell_type": "code",
   "execution_count": 34,
   "metadata": {},
   "outputs": [
    {
     "name": "stdout",
     "output_type": "stream",
     "text": [
      "1\n",
      "2\n",
      "3\n",
      "4\n",
      "5\n",
      "6\n",
      "7\n",
      "8\n",
      "9\n",
      "10\n",
      "11\n",
      "12\n"
     ]
    }
   ],
   "source": [
    "for x in ar1:\n",
    "  for y in x:\n",
    "    for z in y:\n",
    "      print(z)\n"
   ]
  },
  {
   "cell_type": "code",
   "execution_count": 35,
   "metadata": {},
   "outputs": [
    {
     "name": "stdout",
     "output_type": "stream",
     "text": [
      "1\n",
      "2\n",
      "3\n",
      "4\n",
      "5\n",
      "6\n",
      "7\n",
      "8\n",
      "9\n",
      "10\n",
      "11\n",
      "12\n"
     ]
    }
   ],
   "source": [
    "for x in np.nditer(arr):\n",
    "  print(x)"
   ]
  },
  {
   "cell_type": "code",
   "execution_count": 36,
   "metadata": {},
   "outputs": [
    {
     "name": "stdout",
     "output_type": "stream",
     "text": [
      "b'1'\n",
      "b'2'\n",
      "b'3'\n",
      "b'4'\n"
     ]
    }
   ],
   "source": [
    "ar2 = np.array([1,2,3,4])\n",
    "for x in np.nditer(ar2, flags=['buffered'], op_dtypes=['S']):\n",
    "  print(x)"
   ]
  },
  {
   "cell_type": "code",
   "execution_count": 38,
   "metadata": {},
   "outputs": [
    {
     "name": "stdout",
     "output_type": "stream",
     "text": [
      "1\n",
      "2\n",
      "3\n",
      "7\n",
      "8\n",
      "9\n"
     ]
    }
   ],
   "source": [
    "# iter with diffferent step size\n",
    "for x in np.nditer(ar1[:,::2]):\n",
    "  print(x)"
   ]
  },
  {
   "cell_type": "code",
   "execution_count": 47,
   "metadata": {},
   "outputs": [
    {
     "name": "stdout",
     "output_type": "stream",
     "text": [
      "[1 2 3 4]\n",
      "((0,), 1)\n",
      "((1,), 2)\n",
      "((2,), 3)\n",
      "((3,), 4)\n"
     ]
    }
   ],
   "source": [
    "#enumerate iteration using ndenumerate()\n",
    "print(ar2)\n",
    "for x in np.ndenumerate(ar2):\n",
    "  print(x)\n"
   ]
  },
  {
   "cell_type": "code",
   "execution_count": 48,
   "metadata": {},
   "outputs": [
    {
     "name": "stdout",
     "output_type": "stream",
     "text": [
      "(0,) 1\n",
      "(1,) 2\n",
      "(2,) 3\n",
      "(3,) 4\n"
     ]
    }
   ],
   "source": [
    "for idx, x in np.ndenumerate(ar2):\n",
    "  print(idx, x)"
   ]
  },
  {
   "cell_type": "code",
   "execution_count": 55,
   "metadata": {},
   "outputs": [
    {
     "name": "stdout",
     "output_type": "stream",
     "text": [
      "[[[ 1  2  3]\n",
      "  [ 4  5  6]]\n",
      "\n",
      " [[ 7  8  9]\n",
      "  [10 11 12]]]\n",
      "\n",
      "[[ 1  2  3  4]\n",
      " [ 5  6  7  8]\n",
      " [ 9 10 11 12]]\n"
     ]
    }
   ],
   "source": [
    "print(ar1)\n",
    "print()\n",
    "reshapArr = ar1.reshape(3,4)\n",
    "print(reshapArr)"
   ]
  },
  {
   "cell_type": "code",
   "execution_count": 57,
   "metadata": {},
   "outputs": [
    {
     "name": "stdout",
     "output_type": "stream",
     "text": [
      "(0, 0) 1\n",
      "(0, 1) 2\n",
      "(0, 2) 3\n",
      "(0, 3) 4\n",
      "(1, 0) 5\n",
      "(1, 1) 6\n",
      "(1, 2) 7\n",
      "(1, 3) 8\n",
      "(2, 0) 9\n",
      "(2, 1) 10\n",
      "(2, 2) 11\n",
      "(2, 3) 12\n"
     ]
    }
   ],
   "source": [
    "for idx, x in np.ndenumerate(reshapArr):\n",
    "  print(idx, x)"
   ]
  },
  {
   "cell_type": "code",
   "execution_count": 58,
   "metadata": {},
   "outputs": [
    {
     "name": "stdout",
     "output_type": "stream",
     "text": [
      "[0 1 2 3 4 5]\n"
     ]
    }
   ],
   "source": [
    "# join two arrays\n",
    "\n",
    "arr_1 = np.array([0,1,2])\n",
    "arr_2 = np.array([3,4,5])\n",
    "\n",
    "arr_3 = np.concatenate((arr_1, arr_2))\n",
    "\n",
    "print(arr_3)"
   ]
  },
  {
   "cell_type": "code",
   "execution_count": 63,
   "metadata": {},
   "outputs": [
    {
     "name": "stdout",
     "output_type": "stream",
     "text": [
      "[[1 2]\n",
      " [3 4]\n",
      " [5 6]\n",
      " [7 8]]\n"
     ]
    }
   ],
   "source": [
    "#Join 2-D arrays\n",
    "\n",
    "Arr1 = np.array([[1,2],[3,4]])\n",
    "Arr2 = np.array([[5,6],[7,8]])\n",
    "\n",
    "Arr3 = np.concatenate((Arr1, Arr2), axis=0)\n",
    "\n",
    "\n",
    "print(Arr3)\n"
   ]
  },
  {
   "cell_type": "code",
   "execution_count": 64,
   "metadata": {},
   "outputs": [
    {
     "name": "stdout",
     "output_type": "stream",
     "text": [
      "[[1 2 5 6]\n",
      " [3 4 7 8]]\n"
     ]
    }
   ],
   "source": [
    "Arr4 = np.concatenate((Arr1, Arr2), axis=1)\n",
    "print(Arr4)"
   ]
  },
  {
   "cell_type": "code",
   "execution_count": 67,
   "metadata": {},
   "outputs": [
    {
     "name": "stdout",
     "output_type": "stream",
     "text": [
      "[[[1 2]\n",
      "  [5 6]]\n",
      "\n",
      " [[3 4]\n",
      "  [7 8]]]\n"
     ]
    }
   ],
   "source": [
    "# join two arrays with stack() function\n",
    "\n",
    "Arr5 = np.stack((Arr1, Arr2), axis=1)\n",
    "print(Arr5)"
   ]
  },
  {
   "cell_type": "code",
   "execution_count": 68,
   "metadata": {},
   "outputs": [
    {
     "name": "stdout",
     "output_type": "stream",
     "text": [
      "[[1 5]\n",
      " [2 6]\n",
      " [3 7]\n",
      " [4 8]]\n"
     ]
    }
   ],
   "source": [
    "Arrr1 = np.array([1,2,3,4])\n",
    "Arrr2 = np.array([5,6,7,8])\n",
    "\n",
    "arrr3 = np.stack((Arrr1, Arrr2), axis=1)\n",
    "\n",
    "print(arrr3)"
   ]
  },
  {
   "cell_type": "code",
   "execution_count": 69,
   "metadata": {},
   "outputs": [
    {
     "name": "stdout",
     "output_type": "stream",
     "text": [
      "[[1 2 3 4]\n",
      " [5 6 7 8]]\n"
     ]
    }
   ],
   "source": [
    "Arrr1 = np.array([1,2,3,4])\n",
    "Arrr2 = np.array([5,6,7,8])\n",
    "\n",
    "arrr3 = np.stack((Arrr1, Arrr2), axis=0)\n",
    "\n",
    "print(arrr3)"
   ]
  },
  {
   "cell_type": "code",
   "execution_count": 71,
   "metadata": {},
   "outputs": [
    {
     "name": "stdout",
     "output_type": "stream",
     "text": [
      "[1 2 3 4 5 6 7 8]\n"
     ]
    }
   ],
   "source": [
    "#stack along rows\n",
    "arr_4 = np.hstack((Arrr1, Arrr2))\n",
    "print(arr_4)"
   ]
  },
  {
   "cell_type": "code",
   "execution_count": 72,
   "metadata": {},
   "outputs": [
    {
     "name": "stdout",
     "output_type": "stream",
     "text": [
      "[[1 2 3 4]\n",
      " [5 6 7 8]]\n"
     ]
    }
   ],
   "source": [
    "# stack along columns\n",
    "arr_6 =np.vstack((Arrr1, Arrr2))\n",
    "print(arr_6)"
   ]
  },
  {
   "cell_type": "code",
   "execution_count": 73,
   "metadata": {},
   "outputs": [
    {
     "name": "stdout",
     "output_type": "stream",
     "text": [
      "[[[1 5]\n",
      "  [2 6]\n",
      "  [3 7]\n",
      "  [4 8]]]\n"
     ]
    }
   ],
   "source": [
    "# stack along height (depth)\n",
    "arr_7 = np.dstack((Arrr1, Arrr2))\n",
    "print(arr_7)"
   ]
  },
  {
   "cell_type": "code",
   "execution_count": 82,
   "metadata": {},
   "outputs": [
    {
     "name": "stdout",
     "output_type": "stream",
     "text": [
      "[array([1, 2, 3]), array([4, 5, 6]), array([7, 8, 9])]\n",
      "[array([1]), array([2]), array([3]), array([4]), array([5]), array([6]), array([7]), array([8]), array([9])]\n",
      "[array([1]), array([2]), array([3]), array([4]), array([5]), array([6]), array([7]), array([8]), array([9]), array([], dtype=int64)]\n"
     ]
    }
   ],
   "source": [
    "# array split using array_split()\n",
    "arr_11 = np.array([1,2,3,4,5,6,7,8,9])\n",
    "\n",
    "arr_12 = np.array_split(arr_11, 3)\n",
    "arr_13 = np.array_split(arr_11, 9)\n",
    "arr_14 = np.array_split(arr_11, 10)\n",
    "\n",
    "print(arr_12)\n",
    "\n",
    "print(arr_13)\n",
    "\n",
    "print(arr_14)"
   ]
  },
  {
   "cell_type": "code",
   "execution_count": 86,
   "metadata": {},
   "outputs": [
    {
     "name": "stdout",
     "output_type": "stream",
     "text": [
      "[array([1, 2, 3]), array([4, 5, 6]), array([7, 8, 9])]\n",
      "print individual array as below\n",
      "[1 2 3]\n",
      "[4 5 6]\n",
      "[7 8 9]\n"
     ]
    }
   ],
   "source": [
    "print(arr_12)\n",
    "print('print individual array as below')\n",
    "print(arr_12[0])\n",
    "print(arr_12[1])\n",
    "print(arr_12[2])"
   ]
  },
  {
   "cell_type": "code",
   "execution_count": 90,
   "metadata": {},
   "outputs": [
    {
     "name": "stdout",
     "output_type": "stream",
     "text": [
      "(array([2, 4, 7]),)\n",
      "(array([12]),)\n"
     ]
    }
   ],
   "source": [
    "# Numpy searching arrays\n",
    "arr_21 = np.array([ 1,2,3,2,3,4,2,3,4,5,6,7,8,9])\n",
    "where_3 = np.where(arr_21 == 3)\n",
    "where_8 = np.where(arr_21 == 8)\n",
    "print(where_3)\n",
    "print(where_8)"
   ]
  },
  {
   "cell_type": "code",
   "execution_count": 91,
   "metadata": {},
   "outputs": [
    {
     "name": "stdout",
     "output_type": "stream",
     "text": [
      "(array([ 1,  3,  5,  6,  8, 10, 12]),)\n"
     ]
    }
   ],
   "source": [
    "# find where values are even\n",
    "where_even = np.where(arr_21%2 == 0)\n",
    "\n",
    "print(where_even)"
   ]
  },
  {
   "cell_type": "code",
   "execution_count": 92,
   "metadata": {},
   "outputs": [
    {
     "name": "stdout",
     "output_type": "stream",
     "text": [
      "(array([ 0,  2,  4,  7,  9, 11, 13]),)\n"
     ]
    }
   ],
   "source": [
    "# find index where values are odd\n",
    "\n",
    "where_odd = np.where(arr_21%2 ==1)\n",
    "\n",
    "print(where_odd)"
   ]
  },
  {
   "cell_type": "code",
   "execution_count": 94,
   "metadata": {},
   "outputs": [
    {
     "name": "stdout",
     "output_type": "stream",
     "text": [
      "2\n"
     ]
    }
   ],
   "source": [
    "#search sorted using searchsorted() in Numpy\n",
    "# we assume the array is already sorted.\n",
    "arr_31 = np.array([4,5,6,7,8])\n",
    "search_sort = np.searchsorted(arr_31, 6)\n",
    "print(search_sort)"
   ]
  },
  {
   "cell_type": "code",
   "execution_count": 95,
   "metadata": {},
   "outputs": [
    {
     "name": "stdout",
     "output_type": "stream",
     "text": [
      "3\n"
     ]
    }
   ],
   "source": [
    "# search from right side\n",
    "search_sort_right = np.searchsorted(arr_31, 6, side='right')\n",
    "print(search_sort_right)"
   ]
  },
  {
   "cell_type": "code",
   "execution_count": 96,
   "metadata": {},
   "outputs": [
    {
     "name": "stdout",
     "output_type": "stream",
     "text": [
      "[1 2 2 2 3 3 3 4 4 5 6 7 8 9]\n"
     ]
    }
   ],
   "source": [
    "x  = np.sort(arr_21)\n",
    "print(x)"
   ]
  },
  {
   "cell_type": "code",
   "execution_count": 100,
   "metadata": {},
   "outputs": [
    {
     "name": "stdout",
     "output_type": "stream",
     "text": [
      "[['a' 'e']\n",
      " ['b' 'd']\n",
      " ['1' '3']\n",
      " ['2' '4']]\n"
     ]
    }
   ],
   "source": [
    "arr41 = np.array([['a','e'], ['b','d'],[1,3],[2,4]])\n",
    "sorting = np.sort(arr41)\n",
    "print(sorting)"
   ]
  },
  {
   "cell_type": "code",
   "execution_count": 105,
   "metadata": {},
   "outputs": [
    {
     "name": "stdout",
     "output_type": "stream",
     "text": [
      "['a' 'e' 'b' 'd' '1' '3' '2' '4']\n",
      "['1' '2' '3' '4' 'a' 'b' 'd' 'e']\n"
     ]
    }
   ],
   "source": [
    "y = np.reshape(arr41, -1)\n",
    "print(y)\n",
    "z = np.sort(y)\n",
    "print(z)"
   ]
  },
  {
   "cell_type": "code",
   "execution_count": 109,
   "metadata": {},
   "outputs": [
    {
     "name": "stdout",
     "output_type": "stream",
     "text": [
      "[33 22 27]\n"
     ]
    }
   ],
   "source": [
    "# Numpy filter array\n",
    "# Getting some elements out of an existing array and creating a new array out of them is called filtering.\n",
    "# In NumPy, you filter an array using a boolean index list.\n",
    "\n",
    "arr_51 = np.array([33,38,44,22,27])\n",
    "\n",
    "filt_51 = [True, False, False, True, True]\n",
    "\n",
    "newArr = arr_51[filt_51]\n",
    "print(newArr)"
   ]
  },
  {
   "cell_type": "code",
   "execution_count": 111,
   "metadata": {},
   "outputs": [
    {
     "name": "stdout",
     "output_type": "stream",
     "text": [
      "[38 44]\n"
     ]
    }
   ],
   "source": [
    "filt_arr = []\n",
    "\n",
    "for element in arr_51:\n",
    "  if element > 34:\n",
    "    filt_arr.append(True)\n",
    "  else:\n",
    "    filt_arr.append(False)\n",
    "\n",
    "\n",
    "newArr1 = arr_51[filt_arr]\n",
    "\n",
    "print(newArr1)"
   ]
  },
  {
   "cell_type": "code",
   "execution_count": 10,
   "metadata": {},
   "outputs": [
    {
     "name": "stdout",
     "output_type": "stream",
     "text": [
      "1\n",
      "2\n",
      "Fizz\n",
      "4\n",
      "Buzz\n",
      "Fizz\n",
      "7\n",
      "8\n",
      "Fizz\n",
      "Buzz\n",
      "11\n",
      "Fizz\n",
      "13\n",
      "14\n",
      "FizzBuzz\n"
     ]
    }
   ],
   "source": [
    "\n",
    "def fizzBuzz(n):\n",
    "  #n = [1,2,3,4,5,6,7,8,9,10,11,12,13,14,15]\n",
    "  for i in range(1, n+1):\n",
    "    if i%3 == 0 and i%5 == 0:\n",
    "      print('FizzBuzz')\n",
    "    elif i%3 == 0 and i%5 != 0:\n",
    "      print('Fizz')\n",
    "    elif i%5 ==0 and i%3 != 0:\n",
    "      print('Buzz')\n",
    "    elif i%3 !=0 or i%5 != 0:\n",
    "      print(i)\n",
    "  #return None\n",
    "fizzBuzz(15)\n"
   ]
  },
  {
   "cell_type": "code",
   "execution_count": 16,
   "metadata": {},
   "outputs": [
    {
     "name": "stdout",
     "output_type": "stream",
     "text": [
      "fizzBuzz\n"
     ]
    }
   ],
   "source": []
  },
  {
   "cell_type": "code",
   "execution_count": null,
   "metadata": {},
   "outputs": [],
   "source": []
  }
 ],
 "metadata": {
  "kernelspec": {
   "display_name": "base",
   "language": "python",
   "name": "python3"
  },
  "language_info": {
   "codemirror_mode": {
    "name": "ipython",
    "version": 3
   },
   "file_extension": ".py",
   "mimetype": "text/x-python",
   "name": "python",
   "nbconvert_exporter": "python",
   "pygments_lexer": "ipython3",
   "version": "3.11.4"
  }
 },
 "nbformat": 4,
 "nbformat_minor": 2
}
