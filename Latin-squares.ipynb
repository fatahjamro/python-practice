{
 "cells": [
  {
   "cell_type": "code",
   "execution_count": 1,
   "metadata": {},
   "outputs": [
    {
     "data": {
      "image/png": "[encoded data removed]",
      "text/plain": [
       "<Figure size 640x480 with 1 Axes>"
      ]
     },
     "metadata": {},
     "output_type": "display_data"
    }
   ],
   "source": [
    "import numpy as np\n",
    "import matplotlib.pyplot as plt\n",
    "import seaborn as sns\n",
    "import math\n",
    "\n",
    "\n",
    "# Define the quantum states for the rows and columns\n",
    "quantum_states = [\n",
    "    [\n",
    "        r'$\\frac{1}{\\sqrt{2}}(|00\\rangle + |01\\rangle)$',\n",
    "        r'$\\frac{1}{\\sqrt{2}}(|00\\rangle - |01\\rangle)$',\n",
    "        r'$\\frac{1}{\\sqrt{2}}(|10\\rangle + |11\\rangle)$',\n",
    "        r'$\\frac{1}{\\sqrt{2}}(|10\\rangle - |11\\rangle)$'\n",
    "    ],\n",
    "    [\n",
    "        r'$\\frac{1}{\\sqrt{2}}(|01\\rangle + |10\\rangle)$',\n",
    "        r'$\\frac{1}{\\sqrt{2}}(|01\\rangle - |10\\rangle)$',\n",
    "        r'$\\frac{1}{\\sqrt{2}}(|11\\rangle + |00\\rangle)$',\n",
    "        r'$\\frac{1}{\\sqrt{2}}(|11\\rangle - |00\\rangle)$'\n",
    "    ],\n",
    "    [\n",
    "        r'$\\frac{1}{\\sqrt{2}}(|10\\rangle + |11\\rangle)$',\n",
    "        r'$\\frac{1}{\\sqrt{2}}(|10\\rangle - |11\\rangle)$',\n",
    "        r'$\\frac{1}{\\sqrt{2}}(|00\\rangle + |01\\rangle)$',\n",
    "        r'$\\frac{1}{\\sqrt{2}}(|00\\rangle - |01\\rangle)$'\n",
    "    ],\n",
    "    [\n",
    "        r'$\\frac{1}{\\sqrt{2}}(|11\\rangle + |00\\rangle)$',\n",
    "        r'$\\frac{1}{\\sqrt{2}}(|11\\rangle - |00\\rangle)$',\n",
    "        r'$\\frac{1}{\\sqrt{2}}(|01\\rangle + |10\\rangle)$',\n",
    "        r'$\\frac{1}{\\sqrt{2}}(|01\\rangle - |10\\rangle)$'\n",
    "    ]\n",
    "]\n",
    "\n",
    "# Create a 4x4 table\n",
    "table1 = np.array(quantum_states)\n",
    "\n",
    "# Create a figure and axis\n",
    "fig, ax = plt.subplots()\n",
    "\n",
    "# Hide axes\n",
    "ax.axis('off')\n",
    "\n",
    "# Create the table\n",
    "table1 = ax.table(cellText=table1, loc='center', cellLoc='center', cellColours=[['lightgray']*4]*4)\n",
    "\n",
    "# Set cell font size\n",
    "table1.auto_set_font_size(False)\n",
    "table1.set_fontsize(11)\n",
    "\n",
    "# Adjust cell height and width\n",
    "table1.scale(2,2)\n",
    "\n",
    "# Show the plot\n",
    "plt.show()\n"
   ]
  },
  {
   "cell_type": "code",
   "execution_count": 2,
   "metadata": {},
   "outputs": [],
   "source": [
    "# Print options.\n",
    "np.set_printoptions(formatter={'complex_kind': '{:.2f}'.format, 'float': '{:.2f}'.format})"
   ]
  },
  {
   "cell_type": "code",
   "execution_count": 3,
   "metadata": {},
   "outputs": [],
   "source": [
    "# Normalized element of C^4.\n",
    "# 1/sqrt(5)i |0> + 2/sqrt(5)|3>\n",
    "# 1/sqrt(5)i |0> + 0.0 |1> + 0.0 |2> + 2/sqrt(5)|3>\n",
    "x1 = np.array([\n",
    "    complex(0.0       , 1.0/np.sqrt(5.0)),\n",
    "    complex(0.0       , 0.0             ),\n",
    "    complex(0.0       , 0.0             ),\n",
    "    complex(2.0/np.sqrt(5.0), 0.0       ),\n",
    "], dtype=complex)"
   ]
  },
  {
   "cell_type": "code",
   "execution_count": 4,
   "metadata": {},
   "outputs": [
    {
     "name": "stdout",
     "output_type": "stream",
     "text": [
      "[0.00+0.45j 0.00+0.00j 0.00+0.00j 0.89+0.00j]\n",
      "[0.00-0.45j 0.00-0.00j 0.00-0.00j 0.89-0.00j]\n"
     ]
    }
   ],
   "source": [
    "# element ne  complex value in vector format\n",
    "# suppose we have QLS of set{x1, x2, x3, x4}\n",
    "# each element is a normalized vector of complex values.\n",
    "# and each element can be a sum of superposition of quantum states\n",
    "print(x1)\n",
    "\n",
    "# Bra from Ket x1\n",
    "bra_x1 = np.conj(x1).T\n",
    "print(bra_x1)"
   ]
  },
  {
   "cell_type": "code",
   "execution_count": 5,
   "metadata": {},
   "outputs": [
    {
     "name": "stdout",
     "output_type": "stream",
     "text": [
      "1.00+0.00j\n"
     ]
    }
   ],
   "source": [
    "#inner product of bra_x1 and ket x1\n",
    "norm_x1 = np.dot(bra_x1, x1)\n",
    "print(f'{norm_x1:.2f}')"
   ]
  },
  {
   "cell_type": "code",
   "execution_count": 6,
   "metadata": {},
   "outputs": [
    {
     "name": "stdout",
     "output_type": "stream",
     "text": [
      "[0.89+0.00j 0.00+0.00j 0.00+0.00j 0.00+0.45j]\n",
      "[0.89-0.00j 0.00-0.00j 0.00-0.00j 0.00-0.45j]\n"
     ]
    }
   ],
   "source": [
    "#other normalized vector od C^4\n",
    "x2 = np.array([\n",
    "    complex(2.0 / np.sqrt(5.0), 0.0               ),\n",
    "    complex(0.0,                0.0               ),\n",
    "    complex(0.0,                0.0               ),\n",
    "    complex(0.0,                1.0 / np.sqrt(5.0)),\n",
    "])\n",
    "bra_x2 = np.conj(x2).T\n",
    "print(x2)\n",
    "print(bra_x2)"
   ]
  },
  {
   "cell_type": "code",
   "execution_count": 7,
   "metadata": {},
   "outputs": [
    {
     "name": "stdout",
     "output_type": "stream",
     "text": [
      "1.00+0.00j\n"
     ]
    }
   ],
   "source": [
    "# inner product of bra_x2 and x2\n",
    "norm_x2 = np.dot(bra_x2, x2)\n",
    "print(f'{norm_x2:.2f}')"
   ]
  },
  {
   "cell_type": "code",
   "execution_count": 8,
   "metadata": {},
   "outputs": [
    {
     "name": "stdout",
     "output_type": "stream",
     "text": [
      "0.00-0.00j\n"
     ]
    }
   ],
   "source": [
    "# inner product of x1 and x2 <x1|x2> should be 0 to show they are orthrogonal\n",
    "\n",
    "x2x1 = np.dot(bra_x2, x1)\n",
    "print(f'{x2x1:.2f}')"
   ]
  },
  {
   "cell_type": "code",
   "execution_count": 13,
   "metadata": {},
   "outputs": [
    {
     "name": "stdout",
     "output_type": "stream",
     "text": [
      "11: [0.71+0.00j 0.71+0.00j 0.00+0.00j 0.00+0.00j]\n",
      "12: [0.71+0.00j -0.71+0.00j 0.00+0.00j 0.00+0.00j]\n",
      "13: [0.00+0.00j 0.00+0.00j 0.71+0.00j 0.71+0.00j]\n",
      "14: [0.00+0.00j 0.00+0.00j 0.71+0.00j -0.71+0.00j]\n"
     ]
    }
   ],
   "source": [
    "row1 = [\n",
    "    [\n",
    "        np.array([complex(1 / np.sqrt(2), 0), complex(1 / np.sqrt(2), 0), complex(0, 0), complex(0, 0)]),\n",
    "        np.array([complex(1 / np.sqrt(2), 0), complex(-1 / np.sqrt(2), 0), complex(0, 0), complex(0, 0)]),\n",
    "        np.array([complex(0, 0), complex(0, 0), complex(1 / np.sqrt(2), 0), complex(1 / np.sqrt(2), 0)]),\n",
    "        np.array([complex(0, 0), complex(0, 0), complex(1 / np.sqrt(2), 0), complex(-1 / np.sqrt(2), 0)])\n",
    "    ],\n",
    "    # ... repeat for other rows\n",
    "]\n",
    "\n",
    "# Print the quantum states\n",
    "for row_num, row in enumerate(row1):\n",
    "    for col_num, state in enumerate(row):\n",
    "        print(f\"{row_num+1}{col_num+1}:\", state)\n"
   ]
  },
  {
   "cell_type": "code",
   "execution_count": 14,
   "metadata": {},
   "outputs": [
    {
     "name": "stdout",
     "output_type": "stream",
     "text": [
      "21: [0.00+0.00j 0.71+0.00j 0.71+0.00j 0.00+0.00j]\n",
      "22: [0.00+0.00j 0.71+0.00j -0.71+0.00j 0.00+0.00j]\n",
      "23: [0.71+0.00j 0.00+0.00j 0.00+0.00j 0.71+0.00j]\n",
      "24: [-0.71+0.00j 0.00+0.00j 0.00+0.00j 0.71+0.00j]\n"
     ]
    }
   ],
   "source": [
    "row2 = [[\n",
    "    np.array([complex(0, 0), complex(1 / np.sqrt(2), 0), complex(1 / np.sqrt(2), 0), complex(0, 0)]),\n",
    "    np.array([complex(0, 0), complex(1 / np.sqrt(2), 0), complex(-1 / np.sqrt(2), 0), complex(0, 0)]),\n",
    "    np.array([complex(1 / np.sqrt(2), 0), complex(0, 0), complex(0, 0), complex(1 / np.sqrt(2), 0)]),\n",
    "    np.array([complex(-1 / np.sqrt(2), 0), complex(0, 0), complex(0, 0), complex(1 / np.sqrt(2), 0)])\n",
    "]]\n",
    "\n",
    "# Print the quantum states\n",
    "for row_num, row in enumerate(row2):\n",
    "    for col_num, state in enumerate(row):\n",
    "        print(f\"{row_num+2}{col_num+1}:\", state )"
   ]
  },
  {
   "cell_type": "code",
   "execution_count": 15,
   "metadata": {},
   "outputs": [
    {
     "name": "stdout",
     "output_type": "stream",
     "text": [
      "31: [0.00+0.00j 0.00+0.00j 0.71+0.00j 0.71+0.00j]\n",
      "32: [0.00+0.00j 0.00+0.00j 0.71+0.00j -0.71+0.00j]\n",
      "33: [0.71+0.00j 0.71+0.00j 0.00+0.00j 0.00+0.00j]\n",
      "34: [0.71+0.00j -0.71+0.00j 0.00+0.00j 0.00+0.00j]\n"
     ]
    }
   ],
   "source": [
    "row3 = [[\n",
    "  np.array([complex(0, 0), complex(0, 0), complex(1/np.sqrt(2), 0), complex(1/np.sqrt(2),0)]),\n",
    "  np.array([complex(0, 0), complex(0, 0), complex(1/np.sqrt(2), 0), complex(-1/np.sqrt(2),0)]),\n",
    "  np.array([complex(1/np.sqrt(2), 0), complex(1/np.sqrt(2), 0), complex(0, 0), complex(0,0)]),\n",
    "  np.array([complex(1/np.sqrt(2), 0), complex(-1/np.sqrt(2), 0), complex(0, 0), complex(0,0)])\n",
    "]]\n",
    "\n",
    "for row_num, row in enumerate(row3):\n",
    "    for col_num, state in enumerate(row):\n",
    "        print(f\"{row_num+3}{col_num+1}:\", state)\n",
    "       "
   ]
  },
  {
   "cell_type": "code",
   "execution_count": 16,
   "metadata": {},
   "outputs": [
    {
     "name": "stdout",
     "output_type": "stream",
     "text": [
      "41: [0.71+0.00j 0.00+0.00j 0.00+0.00j 0.71+0.00j]\n",
      "42: [-0.71+0.00j 0.00+0.00j 0.00+0.00j 0.71+0.00j]\n",
      "43: [0.00+0.00j 0.71+0.00j 0.71+0.00j 0.00+0.00j]\n",
      "44: [0.00+0.00j 0.71+0.00j -0.71+0.00j 0.00+0.00j]\n"
     ]
    }
   ],
   "source": [
    "row4 = [[\n",
    "    np.array([complex(1 / np.sqrt(2), 0), complex(0, 0), complex(0, 0), complex(1 / np.sqrt(2), 0)]),\n",
    "    np.array([complex(-1 / np.sqrt(2), 0), complex(0, 0), complex(0, 0), complex(1 / np.sqrt(2), 0)]),\n",
    "    np.array([complex(0, 0), complex(1 / np.sqrt(2), 0), complex(1 / np.sqrt(2), 0), complex(0, 0)]),\n",
    "    np.array([complex(0, 0), complex(1 / np.sqrt(2), 0), complex(-1 / np.sqrt(2), 0), complex(0, 0)])\n",
    "]]\n",
    "\n",
    "for row_num, row in enumerate(row4):\n",
    "    for col_num, state in enumerate(row):\n",
    "        print(f\"{row_num+4}{col_num+1}:\", state)\n",
    "        "
   ]
  },
  {
   "cell_type": "code",
   "execution_count": 39,
   "metadata": {},
   "outputs": [
    {
     "name": "stdout",
     "output_type": "stream",
     "text": [
      "[[[0.71+0.00j 0.71+0.00j 0.00+0.00j 0.00+0.00j]\n",
      "  [0.71+0.00j -0.71+0.00j 0.00+0.00j 0.00+0.00j]\n",
      "  [0.00+0.00j 0.00+0.00j 0.71+0.00j 0.71+0.00j]\n",
      "  [0.00+0.00j 0.00+0.00j 0.71+0.00j -0.71+0.00j]]\n",
      "\n",
      " [[0.00+0.00j 0.71+0.00j 0.71+0.00j 0.00+0.00j]\n",
      "  [0.00+0.00j 0.71+0.00j -0.71+0.00j 0.00+0.00j]\n",
      "  [0.71+0.00j 0.00+0.00j 0.00+0.00j 0.71+0.00j]\n",
      "  [-0.71+0.00j 0.00+0.00j 0.00+0.00j 0.71+0.00j]]\n",
      "\n",
      " [[0.00+0.00j 0.00+0.00j 0.71+0.00j 0.71+0.00j]\n",
      "  [0.00+0.00j 0.00+0.00j 0.71+0.00j -0.71+0.00j]\n",
      "  [0.71+0.00j 0.71+0.00j 0.00+0.00j 0.00+0.00j]\n",
      "  [0.71+0.00j -0.71+0.00j 0.00+0.00j 0.00+0.00j]]\n",
      "\n",
      " [[0.71+0.00j 0.00+0.00j 0.00+0.00j 0.71+0.00j]\n",
      "  [-0.71+0.00j 0.00+0.00j 0.00+0.00j 0.71+0.00j]\n",
      "  [0.00+0.00j 0.71+0.00j 0.71+0.00j 0.00+0.00j]\n",
      "  [0.00+0.00j 0.71+0.00j -0.71+0.00j 0.00+0.00j]]]\n"
     ]
    }
   ],
   "source": [
    "# Concatenate all rows into a single array\n",
    "all_states = np.concatenate((row1, row2, row3, row4))\n",
    "\n",
    "# Print the array\n",
    "print(all_states)"
   ]
  },
  {
   "cell_type": "code",
   "execution_count": 41,
   "metadata": {},
   "outputs": [
    {
     "name": "stdout",
     "output_type": "stream",
     "text": [
      "(4, 4, 4)\n",
      "64\n"
     ]
    }
   ],
   "source": [
    "print(all_states.shape)\n",
    "print(all_states.size)\n"
   ]
  },
  {
   "cell_type": "code",
   "execution_count": null,
   "metadata": {},
   "outputs": [],
   "source": []
  }
 ],
 "metadata": {
  "kernelspec": {
   "display_name": "base",
   "language": "python",
   "name": "python3"
  },
  "language_info": {
   "codemirror_mode": {
    "name": "ipython",
    "version": 3
   },
   "file_extension": ".py",
   "mimetype": "text/x-python",
   "name": "python",
   "nbconvert_exporter": "python",
   "pygments_lexer": "ipython3",
   "version": "3.11.4"
  }
 },
 "nbformat": 4,
 "nbformat_minor": 2
}
