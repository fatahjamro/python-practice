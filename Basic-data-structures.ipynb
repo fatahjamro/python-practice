{
 "cells": [
  {
   "attachments": {},
   "cell_type": "markdown",
   "metadata": {},
   "source": [
    "# Practice with Python on VS code editor\n",
    "\n",
    "This notebook is just to improve VS code skills. I try to run python in different environments like Jupyter Notebook (.ipynb). Jupyter is an interactive IDE for python programing. Also, I run python with .py extension on VScode."
   ]
  },
  {
   "cell_type": "code",
   "execution_count": null,
   "metadata": {},
   "outputs": [],
   "source": []
  },
  {
   "cell_type": "code",
   "execution_count": 20,
   "metadata": {},
   "outputs": [
    {
     "name": "stdout",
     "output_type": "stream",
     "text": [
      "current date and time : \n",
      "23-06-26 13:06:01\n"
     ]
    }
   ],
   "source": [
    "import datetime\n",
    "now = datetime.datetime.now()\n",
    "print (\"current date and time : \")\n",
    "print(now.strftime(\"%y-%m-%d %H:%m:%S\"))\n"
   ]
  },
  {
   "cell_type": "code",
   "execution_count": 21,
   "metadata": {},
   "outputs": [
    {
     "name": "stdout",
     "output_type": "stream",
     "text": [
      "hello fatah\n",
      "Access granted.\n"
     ]
    }
   ],
   "source": [
    "name = 'fatah'\n",
    "password = 'abc123'\n",
    "if name == 'fatah':\n",
    "  print('hello', name)\n",
    "  if password == 'abc123':\n",
    "    print('Access granted.')\n",
    "  else:\n",
    "    print('Wrong password.')\n",
    "\n"
   ]
  },
  {
   "attachments": {},
   "cell_type": "markdown",
   "metadata": {},
   "source": [
    "if name is fatah and pasword is abc123 print access granted otherwise print wrong password"
   ]
  },
  {
   "cell_type": "code",
   "execution_count": 22,
   "metadata": {},
   "outputs": [],
   "source": [
    "#not working.\n",
    "name = input('Username = ')\n",
    "password = input('Password = ')\n",
    "if (name == 'fatah') and (password == 'abc123') :\n",
    "  print('hello', name)\n",
    "  #if password == 'abc123':\n",
    "  print('Access granted.')\n",
    "elif():\n",
    " print('Wrong password.')"
   ]
  },
  {
   "cell_type": "code",
   "execution_count": 23,
   "metadata": {},
   "outputs": [
    {
     "name": "stdout",
     "output_type": "stream",
     "text": [
      "hello \n"
     ]
    }
   ],
   "source": [
    "a = input('name = ')\n",
    "print('hello', a)"
   ]
  },
  {
   "cell_type": "code",
   "execution_count": 24,
   "metadata": {},
   "outputs": [
    {
     "name": "stdout",
     "output_type": "stream",
     "text": [
      "name incorrected\n"
     ]
    }
   ],
   "source": [
    "name = input(\"enter name: \")\n",
    "if name == 'ali':\n",
    "  print('Hi ali')\n",
    "else:\n",
    "  print('name incorrected')"
   ]
  },
  {
   "attachments": {},
   "cell_type": "markdown",
   "metadata": {},
   "source": [
    "Defining a function."
   ]
  },
  {
   "cell_type": "code",
   "execution_count": 25,
   "metadata": {},
   "outputs": [
    {
     "name": "stdout",
     "output_type": "stream",
     "text": [
      "product od x and y is  6\n"
     ]
    }
   ],
   "source": [
    "def basic():\n",
    "    x = 2\n",
    "    y = 3\n",
    "    return(x*y)\n",
    "   #return(result)\n",
    "print(\"product od x and y is \", basic())"
   ]
  },
  {
   "cell_type": "code",
   "execution_count": 26,
   "metadata": {},
   "outputs": [],
   "source": [
    "def f(x):\n",
    "    if x==0:\n",
    "        print(1)\n",
    "    else:\n",
    "        print(0)\n",
    "    return()"
   ]
  },
  {
   "cell_type": "code",
   "execution_count": 27,
   "metadata": {},
   "outputs": [
    {
     "name": "stdout",
     "output_type": "stream",
     "text": [
      "1\n"
     ]
    },
    {
     "data": {
      "text/plain": [
       "()"
      ]
     },
     "execution_count": 27,
     "metadata": {},
     "output_type": "execute_result"
    }
   ],
   "source": [
    "f(0)"
   ]
  },
  {
   "cell_type": "code",
   "execution_count": 28,
   "metadata": {},
   "outputs": [
    {
     "name": "stdout",
     "output_type": "stream",
     "text": [
      "0\n"
     ]
    },
    {
     "data": {
      "text/plain": [
       "()"
      ]
     },
     "execution_count": 28,
     "metadata": {},
     "output_type": "execute_result"
    }
   ],
   "source": [
    "f(1)"
   ]
  },
  {
   "cell_type": "code",
   "execution_count": 29,
   "metadata": {},
   "outputs": [
    {
     "name": "stdout",
     "output_type": "stream",
     "text": [
      "1\n",
      "0\n"
     ]
    }
   ],
   "source": [
    "x = [f(0), f(1)]\n"
   ]
  },
  {
   "cell_type": "code",
   "execution_count": 30,
   "metadata": {},
   "outputs": [
    {
     "name": "stdout",
     "output_type": "stream",
     "text": [
      "Please enter a number\n",
      "Please enter a number\n",
      "Please enter a number\n",
      "Please enter a number\n",
      "Please enter a number\n",
      "Please enter a number\n",
      "Please enter a number\n"
     ]
    },
    {
     "data": {
      "text/plain": [
       "3"
      ]
     },
     "execution_count": 30,
     "metadata": {},
     "output_type": "execute_result"
    }
   ],
   "source": [
    "def deposit():\n",
    "    while True:\n",
    "        amount = input(\"What amount would you like to enter? $ \")\n",
    "        if amount.isdigit():\n",
    "            amount = int(amount)\n",
    "            if amount > 0:\n",
    "                break\n",
    "            else:\n",
    "                print(\"amount should be greater than 0.\")\n",
    "        else:\n",
    "            print(\"Please enter a number\")\n",
    "    return amount\n",
    "\n",
    "deposit()"
   ]
  },
  {
   "cell_type": "code",
   "execution_count": 2,
   "metadata": {},
   "outputs": [
    {
     "name": "stdout",
     "output_type": "stream",
     "text": [
      "Last kid name is xyz\n"
     ]
    }
   ],
   "source": [
    "def myfu(*kids):\n",
    "  print(\"Last kid name is \" + kids[-1])\n",
    "\n",
    "myfu(\"abc\", \"def\",\"mno\",\"xyz\")"
   ]
  },
  {
   "cell_type": "code",
   "execution_count": 3,
   "metadata": {},
   "outputs": [
    {
     "name": "stdout",
     "output_type": "stream",
     "text": [
      "the clever kid is charlie\n"
     ]
    }
   ],
   "source": [
    "def myfun1(kid1, kid2, kid3, kid4):\n",
    "  print(\"the clever kid is \" +kid3)\n",
    "\n",
    "myfun1(kid1= \"aa\", kid2='beta', kid3='charlie', kid4='danie')"
   ]
  },
  {
   "cell_type": "code",
   "execution_count": 10,
   "metadata": {},
   "outputs": [
    {
     "name": "stdout",
     "output_type": "stream",
     "text": [
      "1potato\n",
      "2carrot\n",
      "3spinach\n",
      "4onion\n",
      "5beetroot\n"
     ]
    }
   ],
   "source": [
    "def func1(food):\n",
    "  for x in food:\n",
    "    print(x)\n",
    "\n",
    "veggies = ['1potato','2carrot', '3spinach', '4onion', '5beetroot']\n",
    "\n",
    "func1(veggies)"
   ]
  },
  {
   "cell_type": "code",
   "execution_count": 11,
   "metadata": {},
   "outputs": [
    {
     "name": "stdout",
     "output_type": "stream",
     "text": [
      "5\n"
     ]
    }
   ],
   "source": [
    "def myfun():\n",
    "  pass\n",
    "\n",
    "def empty(x,/):\n",
    "  print(x)\n",
    "\n",
    "empty(5)\n"
   ]
  },
  {
   "cell_type": "code",
   "execution_count": 16,
   "metadata": {},
   "outputs": [
    {
     "name": "stdout",
     "output_type": "stream",
     "text": [
      "\n",
      "\n",
      "Recursion Example Results\n",
      "1\n",
      "3\n"
     ]
    },
    {
     "data": {
      "text/plain": [
       "3"
      ]
     },
     "execution_count": 16,
     "metadata": {},
     "output_type": "execute_result"
    }
   ],
   "source": [
    "def tri_recursion(k):\n",
    "  if (k>0):\n",
    "    result = k + tri_recursion(k-1)\n",
    "    print(result)\n",
    "  else:\n",
    "    result = 0\n",
    "  return result\n",
    "\n",
    "print(\"\\n\\nRecursion Example Results\")\n",
    "tri_recursion(2)"
   ]
  },
  {
   "cell_type": "code",
   "execution_count": 17,
   "metadata": {},
   "outputs": [
    {
     "name": "stdout",
     "output_type": "stream",
     "text": [
      "17\n"
     ]
    }
   ],
   "source": [
    "x = lambda b : b+ 10\n",
    "print(x(7))"
   ]
  },
  {
   "cell_type": "code",
   "execution_count": 26,
   "metadata": {},
   "outputs": [
    {
     "name": "stdout",
     "output_type": "stream",
     "text": [
      "160\n"
     ]
    }
   ],
   "source": [
    "x = lambda a, b, c : c *b +10 *a*b\n",
    "print(x(3, 5, 2))"
   ]
  },
  {
   "cell_type": "code",
   "execution_count": 29,
   "metadata": {},
   "outputs": [
    {
     "name": "stdout",
     "output_type": "stream",
     "text": [
      "52.5\n"
     ]
    }
   ],
   "source": [
    "y = lambda x, z: x/2 +z*5\n",
    "\n",
    "print(y(5, 10))"
   ]
  },
  {
   "cell_type": "code",
   "execution_count": 36,
   "metadata": {},
   "outputs": [
    {
     "name": "stdout",
     "output_type": "stream",
     "text": [
      "0.2222222222222222\n",
      "0\n"
     ]
    }
   ],
   "source": [
    "lmbda = lambda x,y,z : (x+y+z)/(x*y*z)\n",
    "print(lmbda(3,3,6))\n",
    "print(int(lmbda(3,3,6)))"
   ]
  },
  {
   "cell_type": "code",
   "execution_count": 40,
   "metadata": {},
   "outputs": [
    {
     "name": "stdout",
     "output_type": "stream",
     "text": [
      "17\n",
      "93\n"
     ]
    }
   ],
   "source": [
    "def fn1(n):\n",
    "  return lambda a, b: a+n*b\n",
    "\n",
    "mydoubler = fn1(2)\n",
    "mytripler = fn1(10)\n",
    "print(mydoubler(5, 6))\n",
    "print(mytripler(3,9))"
   ]
  },
  {
   "cell_type": "code",
   "execution_count": 42,
   "metadata": {},
   "outputs": [
    {
     "name": "stdout",
     "output_type": "stream",
     "text": [
      "<class '__main__.myclass'>\n",
      "5\n"
     ]
    }
   ],
   "source": [
    "class myclass:\n",
    "  x = 5\n",
    "print(myclass)\n",
    "p1= myclass()\n",
    "print(p1.x)"
   ]
  },
  {
   "cell_type": "code",
   "execution_count": 50,
   "metadata": {},
   "outputs": [
    {
     "name": "stdout",
     "output_type": "stream",
     "text": [
      "daniel\n",
      "29\n"
     ]
    }
   ],
   "source": [
    "class student:\n",
    "  def __init__(self, name, age):\n",
    "    self.name = name\n",
    "    self.age = age\n",
    "\n",
    "\n",
    "pp = student(\"daniel\", 29)\n",
    "print(pp.name)\n",
    "print(pp.age)"
   ]
  },
  {
   "cell_type": "code",
   "execution_count": 51,
   "metadata": {},
   "outputs": [
    {
     "name": "stdout",
     "output_type": "stream",
     "text": [
      "Fatah\n"
     ]
    }
   ],
   "source": [
    "class student:\n",
    "  def __init__(self, name, age):\n",
    "    self.name = name\n",
    "    self.age = age\n",
    "p2 = student(\"Fatah\", 29)\n",
    "print(p2.name)"
   ]
  },
  {
   "cell_type": "code",
   "execution_count": 59,
   "metadata": {},
   "outputs": [
    {
     "name": "stdout",
     "output_type": "stream",
     "text": [
      "name is Ali and age is 39\n"
     ]
    }
   ],
   "source": [
    "class student:\n",
    "  def __init__(self, name , age):\n",
    "    self.name = name\n",
    "    self.age = age\n",
    "  \n",
    "  def __str__(self):\n",
    "    return f\"name is {self.name} and age is {self.age}\"\n",
    "  \n",
    "p3 = student(\"Ali\", 39)\n",
    "print(p3)"
   ]
  },
  {
   "cell_type": "code",
   "execution_count": 62,
   "metadata": {},
   "outputs": [
    {
     "name": "stdout",
     "output_type": "stream",
     "text": [
      "This place is for new teacher Fatah\n",
      "This place is for new teacher Lala\n",
      "This place is for new teacher mohsin\n"
     ]
    }
   ],
   "source": [
    "class teacher:\n",
    "  def __init__(self, name , age):\n",
    "    self.name = name\n",
    "    self.age = age\n",
    "  \n",
    "  def newfunction(self):\n",
    "    print(\"This place is for new teacher \" + self.name)\n",
    "p1 = teacher('Fatah', 28)\n",
    "p2 = teacher('Lala', 28)\n",
    "p3 = teacher('mohsin', 27)\n",
    "p1.newfunction()\n",
    "p2.newfunction()\n",
    "p3.newfunction()"
   ]
  },
  {
   "cell_type": "code",
   "execution_count": 76,
   "metadata": {},
   "outputs": [
    {
     "name": "stdout",
     "output_type": "stream",
     "text": [
      "40\n"
     ]
    }
   ],
   "source": [
    "class Person:\n",
    "  def __init__(mysillyobject, name, age):\n",
    "    mysillyobject.name = name\n",
    "    mysillyobject.age = age\n",
    "\n",
    "  def myfunc(a):\n",
    "    print(\"Hello my name is \" + a.name)\n",
    "\n",
    "p1 = Person(\"John\", 36)\n",
    "p1.age=40\n",
    "print(p1.age)\n"
   ]
  },
  {
   "cell_type": "code",
   "execution_count": 78,
   "metadata": {},
   "outputs": [
    {
     "name": "stdout",
     "output_type": "stream",
     "text": [
      "Lowest value is  2\n"
     ]
    }
   ],
   "source": [
    "my_array = [7,12,9,4,11,6,3,5,2]\n",
    "minValue = my_array[0]\n",
    "\n",
    "for i in my_array:\n",
    "  if i < minValue:\n",
    "    minValue = i\n",
    "\n",
    "print('Lowest value is ', minValue)\n"
   ]
  },
  {
   "cell_type": "code",
   "execution_count": 79,
   "metadata": {},
   "outputs": [
    {
     "name": "stdout",
     "output_type": "stream",
     "text": [
      "Highest value in array is 9\n"
     ]
    }
   ],
   "source": [
    "array2 = [4,5,6,4,3,8,9,2,1,0]\n",
    "maxval = array2[0]\n",
    "for i in array2:\n",
    "  if i > maxval:\n",
    "    maxval = i\n",
    "\n",
    "print('Highest value in array is ' + str(maxval))"
   ]
  },
  {
   "cell_type": "code",
   "execution_count": 82,
   "metadata": {},
   "outputs": [
    {
     "name": "stdout",
     "output_type": "stream",
     "text": [
      "4 repeats in the array2 4\n"
     ]
    }
   ],
   "source": [
    "repeat = array2[0]\n",
    "for i in array2:\n",
    "  if i == repeat:\n",
    "    repeat = i\n",
    "print(f\"{repeat} repeats in the array2\", repeat)"
   ]
  },
  {
   "cell_type": "code",
   "execution_count": 92,
   "metadata": {},
   "outputs": [
    {
     "name": "stdout",
     "output_type": "stream",
     "text": [
      "Bubble sorted array becomes [2, 3, 4, 5, 6, 7, 9, 11, 12]\n"
     ]
    }
   ],
   "source": [
    "n = len(my_array)\n",
    "\n",
    "for i in range(n):\n",
    "  for j in range(n-1):\n",
    "    if my_array[j] > my_array[j+1]:\n",
    "      my_array[j], my_array[j+1]= my_array[j+1], my_array[j]\n",
    "\n",
    "print('Bubble sorted array becomes ' + str(my_array))"
   ]
  },
  {
   "cell_type": "code",
   "execution_count": 94,
   "metadata": {},
   "outputs": [
    {
     "name": "stdout",
     "output_type": "stream",
     "text": [
      "Bubble sorted array becomes [2, 3, 3, 4, 5, 5, 5, 7, 7, 8, 8, 9, 9]\n",
      "Set of array arrx {2, 3, 4, 5, 7, 8, 9}\n"
     ]
    }
   ],
   "source": [
    "arrx = [3,5,7,9,4,2,5,8,9,3,5,7,8]\n",
    "\n",
    "# Bubble sort, ascending order\n",
    "i = 0\n",
    "while i < len(arrx):\n",
    "  j = 0\n",
    "  while j < len(arrx)-1:\n",
    "    if arrx[j] > arrx[j+1]:\n",
    "      arrx[j], arrx[j+1] = arrx[j+1], arrx[j]\n",
    "    j += 1\n",
    "  i += 1\n",
    "print('Bubble sorted array becomes ' + str(arrx))\n",
    "print(\"Set of array arrx\", set(arrx))\n"
   ]
  },
  {
   "cell_type": "code",
   "execution_count": 102,
   "metadata": {},
   "outputs": [
    {
     "name": "stdout",
     "output_type": "stream",
     "text": [
      "[2, 3, 3, 3, 4, 4, 5, 6, 6, 6, 7, 8, 9, 45]\n"
     ]
    }
   ],
   "source": [
    "xarray = [2,5,4,3,6,7,8,9,6,4,3,3,45,6]\n",
    "\n",
    "for i in range(len(xarray)):\n",
    "  for j in range(len(xarray)-1):\n",
    "    if xarray[j] > xarray[j+1]:\n",
    "       xarray[j], xarray[j+1] = xarray[j+1], xarray[j]\n",
    "\n",
    "print(xarray)"
   ]
  },
  {
   "cell_type": "code",
   "execution_count": 103,
   "metadata": {},
   "outputs": [
    {
     "name": "stdout",
     "output_type": "stream",
     "text": [
      "[2, 3, 3, 3, 4, 4, 5, 6, 6, 6, 7, 8, 9, 45]\n"
     ]
    }
   ],
   "source": [
    "n = len(xarray)\n",
    "\n",
    "for i in range(n):\n",
    "  swapped = False\n",
    "  for j in range(n-1):\n",
    "    if xarray[j] > xarray[j+1]:\n",
    "      xarray[j], xarray[j+1] = xarray[j+1], xarray[j]\n",
    "      swapped = True\n",
    "  if not swapped:\n",
    "    break\n",
    "print(xarray)"
   ]
  },
  {
   "cell_type": "code",
   "execution_count": 108,
   "metadata": {},
   "outputs": [
    {
     "name": "stdout",
     "output_type": "stream",
     "text": [
      "sorted array with selection sort method  [3, 4, 5, 6, 9, 22, 34, 47, 55]\n"
     ]
    }
   ],
   "source": [
    "arr00 = [3,4,6,47,9,55, 22,34,5]\n",
    "n = len(arr00)\n",
    "\n",
    "for i in range(n-1):\n",
    "  min_index = i\n",
    "  for j in range(i+1, n):\n",
    "    if arr00[j] < arr00[min_index]:\n",
    "      min_index = j\n",
    "  min_value = arr00.pop(min_index)\n",
    "  arr00.insert(i, min_value)\n",
    "print(\"sorted array with selection sort method \", arr00)"
   ]
  },
  {
   "cell_type": "code",
   "execution_count": 24,
   "metadata": {},
   "outputs": [
    {
     "name": "stdout",
     "output_type": "stream",
     "text": [
      "5\n",
      "04-1967\n",
      "10-2012\n",
      "06-2012\n",
      "01-1989\n",
      "12-2000\n"
     ]
    }
   ],
   "source": [
    "date_list = ['04-1967', '10-2012', '06-2012', '01-1989', '12-2000']\n",
    "#date_list2= [04-2000, 10-2000, 06-2000, 01-2000, 12-2000]\n",
    "\n",
    "n  = len(date_list)\n",
    "print(n)\n",
    "\n",
    "date_itr = iter(date_list)\n",
    "for i in range(n):\n",
    "  print(next(date_itr))"
   ]
  },
  {
   "cell_type": "code",
   "execution_count": 40,
   "metadata": {},
   "outputs": [
    {
     "name": "stdout",
     "output_type": "stream",
     "text": [
      "In loop format\n",
      "U\n",
      "n\n",
      "i\n",
      "v\n",
      "e\n",
      "r\n",
      "s\n",
      "i\n",
      "t\n",
      "y\n"
     ]
    }
   ],
   "source": [
    "mystr = 'University'\n",
    "\n",
    "myitr = iter(mystr)\n",
    "#print(next(myitr))\n",
    "print('In loop format')\n",
    "for i in range(len(mystr)):\n",
    "  print(next(myitr))\n",
    "  \n"
   ]
  },
  {
   "cell_type": "code",
   "execution_count": 59,
   "metadata": {},
   "outputs": [
    {
     "name": "stdout",
     "output_type": "stream",
     "text": [
      "10\n",
      "15\n",
      "20\n",
      "25\n",
      "30\n",
      "35\n",
      "40\n",
      "45\n",
      "50\n",
      "55\n"
     ]
    }
   ],
   "source": [
    "class anumber:\n",
    "   def __iter__(self):\n",
    "     self.a = 10\n",
    "     return self\n",
    "\n",
    "   def __next__(self):\n",
    "     x = self.a\n",
    "     self.a += 5\n",
    "     return x\n",
    "   \n",
    "myclass = anumber()\n",
    "myiter = iter(myclass)\n",
    "\n",
    "i = 0\n",
    "while i <10: \n",
    "  print(next(myiter))\n",
    "  i= i+1\n",
    "\n"
   ]
  },
  {
   "cell_type": "code",
   "execution_count": 62,
   "metadata": {},
   "outputs": [
    {
     "name": "stdout",
     "output_type": "stream",
     "text": [
      "4\n"
     ]
    }
   ],
   "source": [
    "mydict = {'a':1,\n",
    "          'b': 2,\n",
    "          'c': 3,\n",
    "          'd': 4}\n",
    "print(len(mydict))"
   ]
  },
  {
   "cell_type": "code",
   "execution_count": 8,
   "metadata": {},
   "outputs": [],
   "source": [
    "def getJSONDiff(json1, json2):\n",
    "  json1 = {\"hello\": \"world\", \"hi\": \"hello\", \"you\": \"me\"}\n",
    "  json2 = {\"hello\": \"world\", \"hi\": \"helloo\", \"you\": \"me\"}\n",
    "  diff = {}\n",
    "  for key in json1:\n",
    "    if key not in json2:\n",
    "      diff[key] = json1[key]\n",
    "    elif json1[key] != json2[key]:\n",
    "      if type(json1[key]) is dict:\n",
    "        diff[key] = getJSONDiff(json1[key], json2[key])\n",
    "      else:\n",
    "        diff[key] = json1[key]\n",
    "  return diff\n",
    "  "
   ]
  },
  {
   "cell_type": "code",
   "execution_count": 9,
   "metadata": {},
   "outputs": [],
   "source": [
    "def getJSONDiff(json1, json2):\n",
    "  diff = {}\n",
    "  for key in json1:\n",
    "    if key not in json2:\n",
    "      diff[key] = json1[key]\n",
    "    elif json1[key] != json2[key]:\n",
    "      if type(json1[key]) is dict:\n",
    "        diff[key] = getJSONDiff(json1[key], json2[key])\n",
    "      else:\n",
    "        diff[key] = json1[key]\n",
    "  return diff\n",
    "  "
   ]
  },
  {
   "cell_type": "code",
   "execution_count": 68,
   "metadata": {},
   "outputs": [
    {
     "name": "stdout",
     "output_type": "stream",
     "text": [
      "sorted array  [3, 4, 12, 22, 25, 34, 64, 65, 67, 68, 77]\n",
      "11\n",
      "[77, 68, 67, 65, 64, 34, 25, 22, 12, 4, 3]\n"
     ]
    }
   ],
   "source": [
    "sarray = [64,34,25,22,4,67,65,77,68,12,3]\n",
    "n      = len(sarray)\n",
    "for i in range(n):\n",
    "  min_index = i\n",
    "  for j in range(i+1, n):\n",
    "    if sarray[j] < sarray[min_index]:\n",
    "      min_index = j\n",
    "  minVal = sarray.pop(min_index)\n",
    "  sarray.insert(i, minVal)\n",
    "\n",
    "print(\"sorted array \", sarray)\n",
    "print(len(sarray))\n",
    "print(sarray[::-1])"
   ]
  },
  {
   "cell_type": "code",
   "execution_count": 70,
   "metadata": {},
   "outputs": [
    {
     "name": "stdout",
     "output_type": "stream",
     "text": [
      "sarted array sorted with swap method  [3, 4, 12, 22, 25, 34, 64, 65, 67, 68, 77]\n"
     ]
    }
   ],
   "source": [
    "#  for same array use swap sorting method\n",
    "\n",
    "for i in range(n):\n",
    "  min_index = i\n",
    "  for j in range(i+1, n):\n",
    "    if sarray[j] < sarray[min_index]:\n",
    "      sarray[i], sarray[min_index] = sarray[min_index], sarray[i]\n",
    "\n",
    "print(\"sarted array sorted with swap method \", sarray)"
   ]
  },
  {
   "cell_type": "code",
   "execution_count": 71,
   "metadata": {},
   "outputs": [
    {
     "name": "stdout",
     "output_type": "stream",
     "text": [
      "Sorted with insertion method  [3, 4, 12, 22, 25, 34, 64, 65, 67, 68, 77]\n"
     ]
    }
   ],
   "source": [
    "# DSA insertion sort method\n",
    "\n",
    "for i in range(n):\n",
    "  insert_index = i\n",
    "  current_val = sarray.pop(i)\n",
    "  for j in range(i-1, -1, -1):\n",
    "    if sarray[j] > current_val:\n",
    "      insert_index = j\n",
    "  sarray.insert(insert_index, current_val)\n",
    "\n",
    "print('Sorted with insertion method ', sarray)"
   ]
  },
  {
   "cell_type": "code",
   "execution_count": 72,
   "metadata": {},
   "outputs": [],
   "source": [
    "def partition(arr, low, high):\n",
    "  pivot = arr[high]\n",
    "  i = low-1\n",
    "\n",
    "  for j in range(low, high):\n",
    "    if arr[j]<= pivot:\n",
    "      i = i+1\n",
    "      arr[i], arr[j] = arr[j], arr[i]\n",
    "  \n",
    "  arr[i+1], arr[high] = arr[high], arr[i+1]\n",
    "  return i+1\n"
   ]
  },
  {
   "cell_type": "code",
   "execution_count": 78,
   "metadata": {},
   "outputs": [
    {
     "name": "stdout",
     "output_type": "stream",
     "text": [
      "sorted array with quick sort method  [3, 3, 4, 6, 7, 23, 24, 32, 55, 75, 79]\n"
     ]
    }
   ],
   "source": [
    "def quick_sort(arr, low=0, high = None):\n",
    "  if high is None:\n",
    "    high= len(arr)-1\n",
    "  \n",
    "  if low < high:\n",
    "    pivot_index = partition(arr, low, high)\n",
    "    quick_sort(arr, low, pivot_index-1)\n",
    "    quick_sort(arr, pivot_index+1, high)\n",
    "\n",
    "arr99 = [23,4,55,75,32,24,7,3,3,6,79]\n",
    "quick_sort(arr99)\n",
    "print(\"sorted array with quick sort method \", arr99)"
   ]
  },
  {
   "cell_type": "code",
   "execution_count": 80,
   "metadata": {},
   "outputs": [
    {
     "name": "stdout",
     "output_type": "stream",
     "text": [
      " length of array  24\n",
      "Distinct values in array  12\n"
     ]
    }
   ],
   "source": [
    "arr88 = [12,13,3,4,5,4,3,2,4,23,43,23,2,12,4,56,56,45,45,45,34,23,12,0]\n",
    "n =len(arr88)\n",
    "set1 = set(arr88)\n",
    "arr88_distinct = len(set1)\n",
    "print(\" length of array \", n)\n",
    "print(\"Distinct values in array \", arr88_distinct)"
   ]
  },
  {
   "cell_type": "code",
   "execution_count": 102,
   "metadata": {},
   "outputs": [
    {
     "name": "stdout",
     "output_type": "stream",
     "text": [
      "Sorted array arr34 [1, 2, 2, 3, 3, 3, 3, 4, 4, 4, 4, 4, 5, 5, 5, 6]\n"
     ]
    }
   ],
   "source": [
    "def count_sort(arr34):\n",
    "  max_val = max(arr34)\n",
    "  count = [0]*(max_val+1)\n",
    "\n",
    "  while len(arr34) > 0:\n",
    "    num = arr34.pop(0)\n",
    "    count[num] = count[num]+1\n",
    "\n",
    "  for i in range(len(count)):\n",
    "    while count[i] > 0:\n",
    "      arr34.append(i)\n",
    "      count[i] = count[i]-1\n",
    "  \n",
    "  return arr34\n",
    "\n",
    "unsorted34 = [2,1,3,4,2,4,6,4,3,5,5,3,3,4,5,4]\n",
    "sortedarr = count_sort(unsorted34)\n",
    "print(\"Sorted array arr34\", sortedarr)"
   ]
  },
  {
   "cell_type": "code",
   "execution_count": 13,
   "metadata": {},
   "outputs": [
    {
     "name": "stdout",
     "output_type": "stream",
     "text": [
      "[0, 3, 5, 17, 5]\n"
     ]
    }
   ],
   "source": [
    "# for each element of an array, a counter is set to 0.\n",
    "#the element is compared to each element of its left side.\n",
    "#if element to left is greater the absolute difference is subtracted from counter\n",
    "# if the element to left is less, the absolute difference is added to the counter \n",
    "# for each element of the array the counter is updated. \n",
    "def arrayChallenge(arr):\n",
    "  n = len(arr)\n",
    "  count = [0]*n\n",
    "\n",
    "def calculate_counter(array):\n",
    "  counters = []\n",
    "  for i in range(len(array)):\n",
    "      counter = 0\n",
    "      for j in range(i):\n",
    "          if array[j] > array[i]:\n",
    "              counter -= abs(array[j] - array[i])\n",
    "          else:\n",
    "              counter += abs(array[j] - array[i])\n",
    "      counters.append(counter)\n",
    "  return counters\n",
    "\n",
    "# Test the function\n",
    "array = [0,3,4,8,5]\n",
    "print(calculate_counter(array))\n",
    "  "
   ]
  },
  {
   "cell_type": "code",
   "execution_count": 11,
   "metadata": {},
   "outputs": [
    {
     "name": "stdout",
     "output_type": "stream",
     "text": [
      "[0, -2, 4, -11, -7]\n"
     ]
    }
   ],
   "source": [
    "\n",
    "def calculate_counter(array):\n",
    "  counters = []\n",
    "  for i in range(len(array)):\n",
    "      counter = 0\n",
    "      for j in range(i):\n",
    "          if array[j] > array[i]:\n",
    "              counter -= abs(array[j] - array[i])\n",
    "          else:\n",
    "              counter += abs(array[j] - array[i])\n",
    "      counters.append(counter)\n",
    "  return counters\n",
    "\n",
    "# Test the function\n",
    "array = [5, 3, 6, 1, 2]\n",
    "print(calculate_counter(array))"
   ]
  },
  {
   "cell_type": "code",
   "execution_count": null,
   "metadata": {},
   "outputs": [],
   "source": []
  }
 ],
 "metadata": {
  "kernelspec": {
   "display_name": "Python 3",
   "language": "python",
   "name": "python3"
  },
  "language_info": {
   "codemirror_mode": {
    "name": "ipython",
    "version": 3
   },
   "file_extension": ".py",
   "mimetype": "text/x-python",
   "name": "python",
   "nbconvert_exporter": "python",
   "pygments_lexer": "ipython3",
   "version": "3.11.4"
  },
  "orig_nbformat": 4,
  "vscode": {
   "interpreter": {
    "hash": "bd385fe162c5ca0c84973b7dd5c518456272446b2b64e67c2a69f949ca7a1754"
   }
  }
 },
 "nbformat": 4,
 "nbformat_minor": 2
}
